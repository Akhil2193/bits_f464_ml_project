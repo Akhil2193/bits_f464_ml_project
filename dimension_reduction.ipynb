{
  "cells": [
    {
      "cell_type": "markdown",
      "id": "sWZG-RTfHvrU",
      "metadata": {
        "id": "sWZG-RTfHvrU"
      },
      "source": [
        "# Group -8\n",
        "# K-means clustering via PCA"
      ]
    },
    {
      "cell_type": "code",
      "execution_count": 1,
      "id": "c1c1f593",
      "metadata": {
        "id": "c1c1f593"
      },
      "outputs": [],
      "source": [
        "import pandas as pd\n",
        "from sklearn.feature_extraction.text import TfidfVectorizer\n",
        "import numpy as np\n",
        "from sklearn.datasets import fetch_20newsgroups\n",
        "from sklearn.cluster import KMeans\n",
        "from sklearn.metrics import accuracy_score\n",
        "from sklearn import preprocessing\n",
        "from sklearn.decomposition import TruncatedSVD\n",
        "from sklearn.pipeline import make_pipeline\n",
        "from sklearn.preprocessing import Normalizer\n",
        "from collections import defaultdict\n",
        "from sklearn import metrics\n",
        "from time import time"
      ]
    },
    {
      "cell_type": "code",
      "execution_count": 2,
      "id": "7b8d7b8a",
      "metadata": {
        "id": "7b8d7b8a"
      },
      "outputs": [],
      "source": [
        "# function to evaluates the clustering accurracy \n",
        "evaluations = []\n",
        "evaluations_std = []\n",
        "\n",
        "\n",
        "def fit_and_evaluate(km, X, name=None, n_runs=5):\n",
        "    name = km.__class__.__name__ if name is None else name\n",
        "\n",
        "    train_times = []\n",
        "    scores = defaultdict(list)\n",
        "    for seed in range(n_runs):\n",
        "        km.set_params(random_state=seed)\n",
        "        t0 = time()\n",
        "        km.fit(X)\n",
        "        train_times.append(time() - t0)\n",
        "        scores[\"Homogeneity\"].append(metrics.homogeneity_score(labels, km.labels_))\n",
        "        scores[\"Completeness\"].append(metrics.completeness_score(labels, km.labels_))\n",
        "        scores[\"V-measure\"].append(metrics.v_measure_score(labels, km.labels_))\n",
        "        scores[\"Adjusted Rand-Index\"].append(\n",
        "            metrics.adjusted_rand_score(labels, km.labels_)\n",
        "        )\n",
        "        scores[\"Silhouette Coefficient\"].append(\n",
        "            metrics.silhouette_score(X, km.labels_, sample_size=2000)\n",
        "        )\n",
        "    train_times = np.asarray(train_times)\n",
        "\n",
        "    print(f\"\\tclustering done in {train_times.mean():.2f} ± {train_times.std():.2f} s \")\n",
        "    evaluation = {\n",
        "        \"estimator\": name,\n",
        "        \"train_time\": train_times.mean(),\n",
        "    }\n",
        "    evaluation_std = {\n",
        "        \"estimator\": name,\n",
        "        \"train_time\": train_times.std(),\n",
        "    }\n",
        "    for score_name, score_values in scores.items():\n",
        "        mean_score, std_score = np.mean(score_values), np.std(score_values)\n",
        "        print(f\"\\t{score_name}: {mean_score:.3f} ± {std_score:.3f}\")\n",
        "        evaluation[score_name] = mean_score\n",
        "        evaluation_std[score_name] = std_score\n",
        "    evaluations.append(evaluation)\n",
        "    evaluations_std.append(evaluation_std)"
      ]
    },
    {
      "cell_type": "code",
      "execution_count": 3,
      "id": "2e4bac6c",
      "metadata": {
        "colab": {
          "base_uri": "https://localhost:8080/"
        },
        "id": "2e4bac6c",
        "outputId": "984229e7-f907-48be-bdea-79a4492e7d61"
      },
      "outputs": [
        {
          "name": "stdout",
          "output_type": "stream",
          "text": [
            "4890 documents - 5 categories\n"
          ]
        }
      ],
      "source": [
        "# get the A5 dataset\n",
        "categories = [\n",
        "    \"comp.graphics\",\n",
        "    \"rec.motorcycles\",\n",
        "    \"rec.sport.baseball\",\n",
        "    \"sci.space\",\n",
        "    \"talk.politics.mideast\"\n",
        "]\n",
        "\n",
        "dataset = fetch_20newsgroups(\n",
        "    remove=(\"headers\", \"footers\", \"quotes\"),\n",
        "    subset=\"all\",\n",
        "    categories=categories,\n",
        "    shuffle=True,\n",
        "    random_state=42,\n",
        ")\n",
        "\n",
        "labels = dataset.target\n",
        "unique_labels, category_sizes = np.unique(labels, return_counts=True)\n",
        "true_k = unique_labels.shape[0]\n",
        "\n",
        "print(f\"{len(dataset.data)} documents - {true_k} categories\")\n"
      ]
    },
    {
      "cell_type": "code",
      "execution_count": 4,
      "id": "6fbc4524",
      "metadata": {
        "id": "6fbc4524"
      },
      "outputs": [],
      "source": [
        "# get the no. of documents as mentioned in the paper\n",
        "req_freq = [200,140,120,100,60]\n",
        "curr_freq = [0,0,0,0,0]\n",
        "new_data = {\n",
        "    \"data\":[],\n",
        "    \"target\":[]\n",
        "}\n",
        "\n",
        "for i in range(0,len(dataset.data)):\n",
        "    category = dataset.target[i]\n",
        "    if curr_freq[category] < req_freq[category]:\n",
        "        curr_freq[category]+=1\n",
        "        new_data[\"data\"].append(dataset.data[i])\n",
        "        new_data[\"target\"].append(dataset.target[i])\n",
        "    elif curr_freq==req_freq:\n",
        "        break\n",
        "labels = new_data[\"target\"]"
      ]
    },
    {
      "cell_type": "code",
      "execution_count": 5,
      "id": "74933e40",
      "metadata": {
        "colab": {
          "base_uri": "https://localhost:8080/"
        },
        "id": "74933e40",
        "outputId": "0cf71d31-b246-4322-fb34-5d0a3d6260e4"
      },
      "outputs": [
        {
          "name": "stdout",
          "output_type": "stream",
          "text": [
            "n_samples: 620,\n",
            "n_features: 1000\n"
          ]
        }
      ],
      "source": [
        "# generate word-document relationship using TF-IFD method\n",
        "vectorizer = TfidfVectorizer(\n",
        "    max_df=0.5,\n",
        "    min_df=5,\n",
        "    stop_words=\"english\",\n",
        "    max_features=1000\n",
        ")\n",
        "X_tfidf = vectorizer.fit_transform(new_data[\"data\"])\n",
        "\n",
        "print(f\"n_samples: {X_tfidf.shape[0]},\\nn_features: {X_tfidf.shape[1]}\")"
      ]
    },
    {
      "cell_type": "code",
      "execution_count": 6,
      "id": "7ed36e01",
      "metadata": {
        "colab": {
          "base_uri": "https://localhost:8080/"
        },
        "id": "7ed36e01",
        "outputId": "dcdfe69a-b286-4d74-982a-bf078a3eac9c"
      },
      "outputs": [
        {
          "name": "stdout",
          "output_type": "stream",
          "text": [
            "0.023\n"
          ]
        }
      ],
      "source": [
        "# get the sparcity of the data\n",
        "print(f\"{X_tfidf.nnz / np.prod(X_tfidf.shape):.3f}\")"
      ]
    },
    {
      "cell_type": "code",
      "execution_count": 7,
      "id": "893f7010",
      "metadata": {
        "colab": {
          "base_uri": "https://localhost:8080/"
        },
        "id": "893f7010",
        "outputId": "7538462c-daf1-4267-8258-380422d0a366"
      },
      "outputs": [
        {
          "name": "stdout",
          "output_type": "stream",
          "text": [
            "---------------------------------------------------------------\n",
            "K - means without PCA \n",
            "\n",
            "\tclustering done in 0.08 ± 0.01 s \n",
            "\tHomogeneity: 0.298 ± 0.049\n",
            "\tCompleteness: 0.307 ± 0.040\n",
            "\tV-measure: 0.302 ± 0.044\n",
            "\tAdjusted Rand-Index: 0.224 ± 0.063\n",
            "\tSilhouette Coefficient: 0.005 ± 0.003\n"
          ]
        }
      ],
      "source": [
        "# kmeans without pca\n",
        "kmeans = KMeans(\n",
        "    n_clusters=true_k,\n",
        "    random_state=42,\n",
        "    max_iter=100,\n",
        "    n_init=5,\n",
        ")\n",
        "print(\"---------------------------------------------------------------\\nK - means without PCA \\n\")\n",
        "fit_and_evaluate(kmeans, X_tfidf, name=\"KMeans\\non tf-idf vectors\")"
      ]
    },
    {
      "cell_type": "code",
      "execution_count": 8,
      "id": "50607f11",
      "metadata": {
        "colab": {
          "base_uri": "https://localhost:8080/"
        },
        "id": "50607f11",
        "outputId": "38e64268-1093-4d1b-9cdc-5cb1e7f5fd2d"
      },
      "outputs": [
        {
          "name": "stdout",
          "output_type": "stream",
          "text": [
            "Enter the dimension: 100\n",
            "---------------------------------------------------------------\n",
            "K - means using PCA \n",
            "\n",
            "\tclustering done in 0.29 ± 0.07 s \n",
            "\tHomogeneity: 0.342 ± 0.053\n",
            "\tCompleteness: 0.364 ± 0.056\n",
            "\tV-measure: 0.353 ± 0.054\n",
            "\tAdjusted Rand-Index: 0.248 ± 0.066\n",
            "\tSilhouette Coefficient: 0.024 ± 0.002\n"
          ]
        }
      ],
      "source": [
        "# k means using pca on the tf-ifd matrix \n",
        "dimension=int(input(\"Enter the dimension: \"))\n",
        "\n",
        "pca = make_pipeline(TruncatedSVD(n_components=dimension,random_state=42), Normalizer(copy=False))\n",
        "X_pca = pca.fit_transform(X_tfidf)\n",
        "\n",
        "kmeans = KMeans(\n",
        "    n_clusters=true_k,\n",
        "    random_state=42,\n",
        "    max_iter=100,\n",
        "    n_init=5,\n",
        ")\n",
        "print(\"---------------------------------------------------------------\\nK - means using PCA \\n\")\n",
        "fit_and_evaluate(kmeans, X_pca, name=\"KMeans\\nwith PCA on tf-idf vectors\")"
      ]
    }
  ],
  "metadata": {
    "colab": {
      "provenance": []
    },
    "kernelspec": {
      "display_name": "Python 3 (ipykernel)",
      "language": "python",
      "name": "python3"
    },
    "language_info": {
      "codemirror_mode": {
        "name": "ipython",
        "version": 3
      },
      "file_extension": ".py",
      "mimetype": "text/x-python",
      "name": "python",
      "nbconvert_exporter": "python",
      "pygments_lexer": "ipython3",
      "version": "3.8.10"
    }
  },
  "nbformat": 4,
  "nbformat_minor": 5
}
